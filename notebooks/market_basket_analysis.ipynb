{
 "cells": [
  {
   "cell_type": "code",
   "execution_count": 32,
   "id": "90a180f7",
   "metadata": {},
   "outputs": [
    {
     "name": "stdout",
     "output_type": "stream",
     "text": [
      "c:\\Users\\dvada\\OneDrive\\Desktop\\market_basket_analysis\\notebooks\n"
     ]
    },
    {
     "data": {
      "text/html": [
       "<div>\n",
       "<style scoped>\n",
       "    .dataframe tbody tr th:only-of-type {\n",
       "        vertical-align: middle;\n",
       "    }\n",
       "\n",
       "    .dataframe tbody tr th {\n",
       "        vertical-align: top;\n",
       "    }\n",
       "\n",
       "    .dataframe thead th {\n",
       "        text-align: right;\n",
       "    }\n",
       "</style>\n",
       "<table border=\"1\" class=\"dataframe\">\n",
       "  <thead>\n",
       "    <tr style=\"text-align: right;\">\n",
       "      <th></th>\n",
       "      <th>InvoiceNo</th>\n",
       "      <th>Description</th>\n",
       "    </tr>\n",
       "  </thead>\n",
       "  <tbody>\n",
       "    <tr>\n",
       "      <th>0</th>\n",
       "      <td>10001</td>\n",
       "      <td>Bread</td>\n",
       "    </tr>\n",
       "    <tr>\n",
       "      <th>1</th>\n",
       "      <td>10001</td>\n",
       "      <td>Milk</td>\n",
       "    </tr>\n",
       "    <tr>\n",
       "      <th>2</th>\n",
       "      <td>10001</td>\n",
       "      <td>Butter</td>\n",
       "    </tr>\n",
       "    <tr>\n",
       "      <th>3</th>\n",
       "      <td>10002</td>\n",
       "      <td>Bread</td>\n",
       "    </tr>\n",
       "    <tr>\n",
       "      <th>4</th>\n",
       "      <td>10002</td>\n",
       "      <td>Diaper</td>\n",
       "    </tr>\n",
       "  </tbody>\n",
       "</table>\n",
       "</div>"
      ],
      "text/plain": [
       "   InvoiceNo Description\n",
       "0      10001       Bread\n",
       "1      10001        Milk\n",
       "2      10001      Butter\n",
       "3      10002       Bread\n",
       "4      10002      Diaper"
      ]
     },
     "execution_count": 32,
     "metadata": {},
     "output_type": "execute_result"
    }
   ],
   "source": [
    "import pandas as pd\n",
    "import os\n",
    "print(os.getcwd())\n",
    "\n",
    "# Load the dataset\n",
    "df = pd.read_csv('retail_data.csv')\n",
    "\n",
    "# Inspect the data\n",
    "df.head()\n",
    "\n",
    "\n"
   ]
  },
  {
   "cell_type": "code",
   "execution_count": 33,
   "id": "9030f5c9",
   "metadata": {},
   "outputs": [],
   "source": [
    "transactions = pd.get_dummies(df['Description'])\n"
   ]
  },
  {
   "cell_type": "code",
   "execution_count": 34,
   "id": "880cb531",
   "metadata": {},
   "outputs": [
    {
     "data": {
      "image/png": "[encoded data removed]",
      "text/plain": [
       "<Figure size 1000x600 with 1 Axes>"
      ]
     },
     "metadata": {},
     "output_type": "display_data"
    }
   ],
   "source": [
    "import matplotlib.pyplot as plt\n",
    "import seaborn as sns\n",
    "\n",
    "# Convert antecedents to string for labeling\n",
    "filtered_rules = filtered_rules.copy() # type: ignore\n",
    "filtered_rules['antecedents_str'] = filtered_rules['antecedents'].apply(lambda x: ', '.join(list(x)))\n",
    "\n",
    "# Sort by lift and select top N (optional)\n",
    "top_rules = filtered_rules.sort_values(by='lift', ascending=False).head(10)\n",
    "\n",
    "# Plot\n",
    "plt.figure(figsize=(10, 6))\n",
    "sns.barplot(x='lift', y='antecedents_str', data=top_rules, palette='viridis')\n",
    "plt.title('Top Association Rules by Lift')\n",
    "plt.xlabel('Lift')\n",
    "plt.ylabel('Antecedent Itemsets')\n",
    "plt.tight_layout()\n",
    "plt.show()\n"
   ]
  },
  {
   "cell_type": "code",
   "execution_count": 35,
   "id": "718f86aa",
   "metadata": {},
   "outputs": [
    {
     "name": "stdout",
     "output_type": "stream",
     "text": [
      "Description  Beer  Bread  Butter  Cola  Diaper  Milk\n",
      "InvoiceNo                                           \n",
      "10001           0      1       1     0       0     1\n",
      "10002           0      1       0     0       1     0\n",
      "10003           1      0       0     0       1     1\n",
      "10004           1      1       0     1       1     1\n"
     ]
    },
    {
     "name": "stderr",
     "output_type": "stream",
     "text": [
      "C:\\Users\\dvada\\AppData\\Local\\Temp\\ipykernel_10608\\2058441943.py:11: FutureWarning: DataFrame.applymap has been deprecated. Use DataFrame.map instead.\n",
      "  basket = basket.applymap(lambda x: 1 if x > 0 else 0)\n"
     ]
    }
   ],
   "source": [
    "import pandas as pd\n",
    "\n",
    "# Step 1: Load the data\n",
    "df = pd.read_csv('retail_data.csv')\n",
    "\n",
    "# Step 2: Create a basket matrix\n",
    "basket = df.groupby(['InvoiceNo', 'Description'])['Description'] \\\n",
    "           .count().unstack().reset_index().fillna(0).set_index('InvoiceNo')\n",
    "\n",
    "# Step 3: Convert quantities to binary (0/1)\n",
    "basket = basket.applymap(lambda x: 1 if x > 0 else 0)\n",
    "\n",
    "print(basket.head())\n"
   ]
  },
  {
   "cell_type": "code",
   "execution_count": 36,
   "id": "54301be1",
   "metadata": {},
   "outputs": [
    {
     "name": "stdout",
     "output_type": "stream",
     "text": [
      "    antecedents                  consequents  support  confidence      lift\n",
      "0        (Cola)                       (Beer)     0.25    1.000000  2.000000\n",
      "1        (Beer)                       (Cola)     0.25    0.500000  2.000000\n",
      "2      (Diaper)                       (Beer)     0.50    0.666667  1.333333\n",
      "3        (Beer)                     (Diaper)     0.50    1.000000  1.333333\n",
      "4        (Milk)                       (Beer)     0.50    0.666667  1.333333\n",
      "..          ...                          ...      ...         ...       ...\n",
      "165    (Diaper)    (Milk, Bread, Cola, Beer)     0.25    0.333333  1.333333\n",
      "166      (Milk)  (Diaper, Bread, Cola, Beer)     0.25    0.333333  1.333333\n",
      "167      (Cola)  (Diaper, Milk, Bread, Beer)     0.25    1.000000  4.000000\n",
      "168      (Beer)  (Diaper, Milk, Bread, Cola)     0.25    0.500000  2.000000\n",
      "169     (Bread)   (Diaper, Milk, Cola, Beer)     0.25    0.333333  1.333333\n",
      "\n",
      "[170 rows x 5 columns]\n"
     ]
    },
    {
     "name": "stderr",
     "output_type": "stream",
     "text": [
      "c:\\Users\\dvada\\OneDrive\\Desktop\\market_basket_analysis\\.venv\\Lib\\site-packages\\mlxtend\\frequent_patterns\\fpcommon.py:161: DeprecationWarning: DataFrames with non-bool types result in worse computationalperformance and their support might be discontinued in the future.Please use a DataFrame with bool type\n",
      "  warnings.warn(\n"
     ]
    }
   ],
   "source": [
    "from mlxtend.frequent_patterns import apriori, association_rules\n",
    "\n",
    "frequent_itemsets = apriori(basket, min_support=0.2, use_colnames=True)\n",
    "rules = association_rules(frequent_itemsets, metric=\"lift\", min_threshold=1)\n",
    "\n",
    "print(rules[['antecedents', 'consequents', 'support', 'confidence', 'lift']])"
   ]
  },
  {
   "cell_type": "code",
   "execution_count": 38,
   "id": "c117dc21",
   "metadata": {},
   "outputs": [],
   "source": [
    "rules.to_csv(\"association_rules.csv\", index=False)"
   ]
  }
 ],
 "metadata": {
  "kernelspec": {
   "display_name": ".venv",
   "language": "python",
   "name": "python3"
  },
  "language_info": {
   "codemirror_mode": {
    "name": "ipython",
    "version": 3
   },
   "file_extension": ".py",
   "mimetype": "text/x-python",
   "name": "python",
   "nbconvert_exporter": "python",
   "pygments_lexer": "ipython3",
   "version": "3.13.3"
  }
 },
 "nbformat": 4,
 "nbformat_minor": 5
}
